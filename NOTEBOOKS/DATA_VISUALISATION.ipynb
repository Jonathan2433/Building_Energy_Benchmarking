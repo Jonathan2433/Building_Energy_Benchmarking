{
 "cells": [
  {
   "cell_type": "markdown",
   "source": [
    "# Imports Libs"
   ],
   "metadata": {
    "collapsed": false
   }
  },
  {
   "cell_type": "code",
   "execution_count": 1,
   "metadata": {
    "collapsed": true
   },
   "outputs": [],
   "source": [
    "import pandas as pd\n",
    "import plotly.express as px"
   ]
  },
  {
   "cell_type": "markdown",
   "source": [
    "# Open Dataset"
   ],
   "metadata": {
    "collapsed": false
   }
  },
  {
   "cell_type": "code",
   "execution_count": 4,
   "outputs": [],
   "source": [
    "df_2015 = pd.read_csv('../DATA/2015_Building_Energy_Benchmarking.csv')\n",
    "df_2016 = pd.read_csv('../DATA/2016_Building_Energy_Benchmarking.csv')\n",
    "df_2017 = pd.read_csv('../DATA/2017_Building_Energy_Benchmarking.csv')\n",
    "df_2018 = pd.read_csv('../DATA/2018_Building_Energy_Benchmarking.csv')\n",
    "df_2019 = pd.read_csv('../DATA/2019_Building_Energy_Benchmarking.csv')\n",
    "df_2020 = pd.read_csv('../DATA/2020_Building_Energy_Benchmarking.csv')"
   ],
   "metadata": {
    "collapsed": false
   }
  },
  {
   "cell_type": "code",
   "execution_count": null,
   "outputs": [],
   "source": [],
   "metadata": {
    "collapsed": false
   }
  }
 ],
 "metadata": {
  "kernelspec": {
   "display_name": "Python 3",
   "language": "python",
   "name": "python3"
  },
  "language_info": {
   "codemirror_mode": {
    "name": "ipython",
    "version": 2
   },
   "file_extension": ".py",
   "mimetype": "text/x-python",
   "name": "python",
   "nbconvert_exporter": "python",
   "pygments_lexer": "ipython2",
   "version": "2.7.6"
  }
 },
 "nbformat": 4,
 "nbformat_minor": 0
}
